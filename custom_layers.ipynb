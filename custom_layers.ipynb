{
 "cells": [
  {
   "cell_type": "code",
   "execution_count": 37,
   "metadata": {
    "collapsed": true
   },
   "outputs": [],
   "source": [
    "import tensorflow as tf\n",
    "from tensorflow import keras\n",
    "import numpy as np"
   ]
  },
  {
   "cell_type": "code",
   "execution_count": 38,
   "outputs": [],
   "source": [
    "class In_Linear(keras.layers.Layer):\n",
    "    \"\"\"y = w.x + b\"\"\"\n",
    "    def __init__(self, hidden_units=32):\n",
    "        super(In_Linear, self).__init__()\n",
    "        self.hidden_units = hidden_units\n",
    "\n",
    "    def build(self, input_shape):\n",
    "        self.w = self.add_weight(\n",
    "            shape=(input_shape[-1], self.hidden_units),\n",
    "            initializer=\"random_normal\",\n",
    "            trainable=True,\n",
    "        )\n",
    "        self.wb = tf.cast(tf.sign(self.w), dtype=\"float32\")\n",
    "    def call(self, inputs):\n",
    "        return tf.matmul(inputs, self.wb)\n",
    "class Out_Linear(keras.layers.Layer):\n",
    "    \"\"\"y = w.x + b\"\"\"\n",
    "    def __init__(self, Out_units=32):\n",
    "        super(Out_Linear, self).__init__()\n",
    "        self.Out_units = Out_units\n",
    "\n",
    "    def build(self, input_shape):\n",
    "        self.w = self.add_weight(\n",
    "            shape=(input_shape[-1], self.Out_units),\n",
    "            initializer=\"random_normal\",\n",
    "            trainable=True,\n",
    "        )\n",
    "        self.wb = tf.cast(tf.sign(self.w), dtype=\"float32\")\n",
    "    def similarity(self, x, y):\n",
    "        pass\n",
    "    def call(self, inputs):\n",
    "        # here we implement our simialrity measure.\n",
    "\n",
    "        return tf.matmul(inputs, self.wb)"
   ],
   "metadata": {
    "collapsed": false,
    "pycharm": {
     "name": "#%%\n"
    }
   }
  },
  {
   "cell_type": "code",
   "execution_count": 39,
   "outputs": [
    {
     "name": "stdout",
     "output_type": "stream",
     "text": [
      "tf.Tensor(\n",
      "[18.004946  22.000671  24.000671  22.        32.004948   8.002863\n",
      " 14.01815    4.7035365  0.7034946 28.000006 ], shape=(10,), dtype=float32)\n"
     ]
    }
   ],
   "source": [
    "hidden_units = 128\n",
    "input_size = 10\n",
    "out_units = 10\n",
    "x = tf.one_hot([0,1,1,3,0,5,6,7,2,9], input_size)\n",
    "labels = tf.one_hot([1,2,3,6,7,5,8,0,8,1], input_size)\n",
    "in_layer = In_Linear(hidden_units)\n",
    "out_layer = Out_Linear(out_units)\n",
    "y = in_layer(x)\n",
    "logits = out_layer(y)\n",
    "z1 = tf.nn.softmax_cross_entropy_with_logits(labels=labels, logits=logits)\n",
    "#z2 = tf.nn.sparse_softmax_cross_entropy_with_logits(labels=labels, logits=logits)\n",
    "print(z1)\n",
    "#print(z2)\n"
   ],
   "metadata": {
    "collapsed": false,
    "pycharm": {
     "name": "#%%\n"
    }
   }
  }
 ],
 "metadata": {
  "kernelspec": {
   "display_name": "Python 3",
   "language": "python",
   "name": "python3"
  },
  "language_info": {
   "codemirror_mode": {
    "name": "ipython",
    "version": 2
   },
   "file_extension": ".py",
   "mimetype": "text/x-python",
   "name": "python",
   "nbconvert_exporter": "python",
   "pygments_lexer": "ipython2",
   "version": "2.7.6"
  }
 },
 "nbformat": 4,
 "nbformat_minor": 0
}