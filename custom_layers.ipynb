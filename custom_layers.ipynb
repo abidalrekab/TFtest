{
 "cells": [
  {
   "cell_type": "code",
   "execution_count": 10,
   "metadata": {
    "collapsed": true
   },
   "outputs": [],
   "source": [
    "import tensorflow as tf\n",
    "from tensorflow import keras\n",
    "import numpy as np"
   ]
  },
  {
   "cell_type": "code",
   "execution_count": 11,
   "outputs": [],
   "source": [
    "class Linear(keras.layers.Layer):\n",
    "    def __init__(self, units=32, input_dim=32):\n",
    "        super(Linear, self).__init__()\n",
    "        w_init = self.initia(shape = (input_dim, units))\n",
    "        self.w = tf.Variable(\n",
    "            initial_value=w_init,\n",
    "            trainable=True\n",
    "        )\n",
    "        b_init = tf.zeros_initializer()\n",
    "        self.b = tf.Variable(\n",
    "            initial_value=b_init(shape=(units,), dtype=\"float32\"), trainable=True\n",
    "        )\n",
    "    def call(self, inputs):\n",
    "        return tf.matmul(inputs, self.w) + self.b\n",
    "    def initia(self, shape):\n",
    "        return tf.cast(tf.sign(2 * np.random.randint(0,2, shape) - 1), dtype=\"float32\")"
   ],
   "metadata": {
    "collapsed": false,
    "pycharm": {
     "name": "#%%\n"
    }
   }
  },
  {
   "cell_type": "code",
   "execution_count": 12,
   "outputs": [
    {
     "name": "stdout",
     "output_type": "stream",
     "text": [
      "tf.Tensor(\n",
      "[[1. 0. 0. 0. 0. 0. 0. 0. 0. 0.]\n",
      " [0. 1. 0. 0. 0. 0. 0. 0. 0. 0.]\n",
      " [0. 0. 1. 0. 0. 0. 0. 0. 0. 0.]\n",
      " [0. 0. 0. 1. 0. 0. 0. 0. 0. 0.]\n",
      " [0. 0. 0. 0. 1. 0. 0. 0. 0. 0.]\n",
      " [0. 0. 0. 0. 0. 1. 0. 0. 0. 0.]\n",
      " [0. 0. 0. 0. 0. 0. 1. 0. 0. 0.]\n",
      " [0. 0. 0. 0. 0. 0. 0. 1. 0. 0.]\n",
      " [0. 0. 0. 0. 0. 0. 0. 0. 1. 0.]\n",
      " [0. 0. 0. 0. 0. 0. 0. 0. 0. 1.]], shape=(10, 10), dtype=float32)\n",
      "<tf.Variable 'Variable:0' shape=(10, 128) dtype=float32, numpy=\n",
      "array([[-1.,  1.,  1., ..., -1.,  1., -1.],\n",
      "       [ 1.,  1., -1., ...,  1., -1., -1.],\n",
      "       [-1.,  1.,  1., ..., -1.,  1., -1.],\n",
      "       ...,\n",
      "       [ 1., -1.,  1., ..., -1.,  1.,  1.],\n",
      "       [-1., -1.,  1., ...,  1.,  1., -1.],\n",
      "       [ 1., -1.,  1., ...,  1.,  1.,  1.]], dtype=float32)>\n",
      "tf.Tensor(\n",
      "[[-1.  1.  1. ... -1.  1. -1.]\n",
      " [ 1.  1. -1. ...  1. -1. -1.]\n",
      " [-1.  1.  1. ... -1.  1. -1.]\n",
      " ...\n",
      " [ 1. -1.  1. ... -1.  1.  1.]\n",
      " [-1. -1.  1. ...  1.  1. -1.]\n",
      " [ 1. -1.  1. ...  1.  1.  1.]], shape=(10, 128), dtype=float32)\n"
     ]
    }
   ],
   "source": [
    "units = 128\n",
    "input_size = 10\n",
    "x = tf.one_hot([0,1,2,3,4,5,6,7,8,9], input_size)\n",
    "print(x)\n",
    "linear_layer = Linear(units, input_size)\n",
    "print(linear_layer.w)\n",
    "y = linear_layer(x)\n",
    "print(y)"
   ],
   "metadata": {
    "collapsed": false,
    "pycharm": {
     "name": "#%%\n"
    }
   }
  }
 ],
 "metadata": {
  "kernelspec": {
   "display_name": "Python 3",
   "language": "python",
   "name": "python3"
  },
  "language_info": {
   "codemirror_mode": {
    "name": "ipython",
    "version": 2
   },
   "file_extension": ".py",
   "mimetype": "text/x-python",
   "name": "python",
   "nbconvert_exporter": "python",
   "pygments_lexer": "ipython2",
   "version": "2.7.6"
  }
 },
 "nbformat": 4,
 "nbformat_minor": 0
}